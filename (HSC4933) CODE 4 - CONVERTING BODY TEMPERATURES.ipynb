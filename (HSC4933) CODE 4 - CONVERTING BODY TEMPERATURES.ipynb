{
 "cells": [
  {
   "cell_type": "code",
   "execution_count": 1,
   "id": "9a5a9105",
   "metadata": {},
   "outputs": [],
   "source": [
    "# celsius to fahrenheit\n",
    "def celsius_to_fahrenheit(celsius):\n",
    "    return (celsius * 9/5) + 32\n",
    "\n",
    "# fahrenheit to celsius\n",
    "def fahrenheit_to_celsius(fahrenheit):\n",
    "    return (fahrenheit - 32) * 5/9"
   ]
  },
  {
   "cell_type": "code",
   "execution_count": 8,
   "id": "f415cad3",
   "metadata": {},
   "outputs": [
    {
     "name": "stdout",
     "output_type": "stream",
     "text": [
      "Choose the conversion direction.\n",
      "Put C for celsius to fahrenheit or F for fahrenheit to celsius.\n",
      "Enter your choice: C\n",
      "Enter the temperature: 23.7\n",
      "23.7 degrees celsius is 74.66 degrees fahrenheit\n"
     ]
    }
   ],
   "source": [
    "# setting dictionary to mapping the user input to the function\n",
    "conversion_features = {\n",
    "    'c': celsius_to_fahrenheit,\n",
    "    'f': fahrenheit_to_celsius\n",
    "}\n",
    "\n",
    "print(\"Choose the conversion direction.\")\n",
    "print(\"Put C for celsius to fahrenheit or F for fahrenheit to celsius.\")\n",
    "\n",
    "choice = input(\"Enter your choice: \").lower()\n",
    "\n",
    "if choice in conversion_features:\n",
    "    temperature = float(input(\"Enter the temperature: \"))\n",
    "    \n",
    "    # conversion\n",
    "    converted_temperature = conversion_features[choice](temperature)\n",
    "    \n",
    "    print(f\"{temperature} degrees {'celsius' if choice == 'c' else 'fahrenheit'} is {converted_temperature} degrees {'fahrenheit' if choice == 'c' else 'celsius'}\") \n",
    "\n",
    "else: \n",
    "    print(\"This is not a valid input. Please enter a C or F.\")\n",
    "          \n",
    "    "
   ]
  },
  {
   "cell_type": "code",
   "execution_count": 9,
   "id": "ceadf85b",
   "metadata": {},
   "outputs": [
    {
     "name": "stdout",
     "output_type": "stream",
     "text": [
      "Choose the conversion direction.\n",
      "Put C for celsius to fahrenheit or F for fahrenheit to celsius.\n",
      "Enter your choice: F\n",
      "Enter the temperature: 104.6\n",
      "104.6 degrees fahrenheit is 40.333333333333336 degrees celsius\n"
     ]
    }
   ],
   "source": [
    "# setting dictionary to mapping the user input to the function\n",
    "conversion_features = {\n",
    "    'c': celsius_to_fahrenheit,\n",
    "    'f': fahrenheit_to_celsius\n",
    "}\n",
    "\n",
    "print(\"Choose the conversion direction.\")\n",
    "print(\"Put C for celsius to fahrenheit or F for fahrenheit to celsius.\")\n",
    "\n",
    "choice = input(\"Enter your choice: \").lower()\n",
    "\n",
    "if choice in conversion_features:\n",
    "    temperature = float(input(\"Enter the temperature: \"))\n",
    "    \n",
    "    # conversion\n",
    "    converted_temperature = conversion_features[choice](temperature)\n",
    "    \n",
    "    print(f\"{temperature} degrees {'celsius' if choice == 'c' else 'fahrenheit'} is {converted_temperature} degrees {'fahrenheit' if choice == 'c' else 'celsius'}\") \n",
    "\n",
    "else: \n",
    "    print(\"This is not a valid input. Please enter a C or F.\")"
   ]
  },
  {
   "cell_type": "code",
   "execution_count": 10,
   "id": "782342e0",
   "metadata": {},
   "outputs": [
    {
     "name": "stdout",
     "output_type": "stream",
     "text": [
      "Choose the conversion direction.\n",
      "Put C for celsius to fahrenheit or F for fahrenheit to celsius.\n",
      "Enter your choice: G\n",
      "This is not a valid input. Please enter a C or F.\n"
     ]
    }
   ],
   "source": [
    "# setting dictionary to mapping the user input to the function\n",
    "conversion_features = {\n",
    "    'c': celsius_to_fahrenheit,\n",
    "    'f': fahrenheit_to_celsius\n",
    "}\n",
    "\n",
    "print(\"Choose the conversion direction.\")\n",
    "print(\"Put C for celsius to fahrenheit or F for fahrenheit to celsius.\")\n",
    "\n",
    "choice = input(\"Enter your choice: \").lower()\n",
    "\n",
    "if choice in conversion_features:\n",
    "    temperature = float(input(\"Enter the temperature: \"))\n",
    "    \n",
    "    # conversion\n",
    "    converted_temperature = conversion_features[choice](temperature)\n",
    "    \n",
    "    print(f\"{temperature} degrees {'celsius' if choice == 'c' else 'fahrenheit'} is {converted_temperature} degrees {'fahrenheit' if choice == 'c' else 'celsius'}\") \n",
    "\n",
    "else: \n",
    "    print(\"This is not a valid input. Please enter a C or F.\")"
   ]
  }
 ],
 "metadata": {
  "kernelspec": {
   "display_name": "Python 3 (ipykernel)",
   "language": "python",
   "name": "python3"
  },
  "language_info": {
   "codemirror_mode": {
    "name": "ipython",
    "version": 3
   },
   "file_extension": ".py",
   "mimetype": "text/x-python",
   "name": "python",
   "nbconvert_exporter": "python",
   "pygments_lexer": "ipython3",
   "version": "3.11.4"
  }
 },
 "nbformat": 4,
 "nbformat_minor": 5
}
